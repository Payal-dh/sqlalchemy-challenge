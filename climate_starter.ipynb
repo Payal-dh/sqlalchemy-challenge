
#!/usr/bin/env python
# coding: utf-8

# In[48]:


get_ipython().run_line_magic('matplotlib', 'inline')
from matplotlib import style
style.use('fivethirtyeight')
import matplotlib.pyplot as plt


# In[49]:


import numpy as np
import pandas as pd
import datetime as dt


# # Reflect Tables into SQLAlchemy ORM

# In[50]:


# Python SQL toolkit and Object Relational Mapper
import sqlalchemy
from sqlalchemy.ext.automap import automap_base
from sqlalchemy.orm import Session
from sqlalchemy import create_engine, func, inspect


# In[54]:


# create engine to hawaii.sqlite
engine = create_engine("sqlite:///Resources/hawaii.sqlite")


# In[55]:


# reflect an existing database into a new model
Base = automap_base()
# reflect the tables
Base.prepare(engine, reflect=True)


# In[56]:


# View all of the classes that automap found
Base.classes.keys()


# In[57]:


# Save references to each table
Measurement = Base.classes.measurement
Station = Base.classes.station


# In[58]:


# Create our session (link) from Python to the DB
session = Session(engine)


# # Exploratory Precipitation Analysis

# In[59]:


# Find the most recent date in the data set.
#imported inspector to find column names for each table to more accurately query 
inspector = inspect(engine)
measurement_columns = inspector.get_columns("measurement")
for c in measurement_columns:
   print(c["name"], c["type"])
    
query=session.query(Measurement).order_by(Measurement.date.desc()).first()
query.date
#sortbydate


# In[60]:


station_columns = inspector.get_columns("station")
for c in station_columns:
    print(c["name"],c["type"])


# In[61]:


#most recent date is query the date; sort in descending order and pick first; in string fomat so still filters chronologically
most_recent_date = session.query(Measurement.date).    order_by(Measurement.date.desc()).first()

print(most_recent_date)


# In[63]:


# Design a query to retrieve the last 12 months of precipitation data and plot the results. 
# Starting from the most recent data point in the database. 

#variable start_date created into object from finding most_recent_date in cell above from Measurement class

values = session.query(Measurement.date, Measurement.prcp).    filter(Measurement.date > '2016-08-22').    order_by(Measurement.date).all()

# Check to see if correct values were generated via for loop and printing values
# for value in values:
#     print(values)

# Calculate the date one year from the last date in data set.
 # value one year from the start date is 2016-08-23, by filtering for values greater than 2016-08-22 we include all days in that range


# Perform a query to retrieve the data and precipitation scores
 # query done for dates and precipitation and saved in the values variable above

# Save the query results as a Pandas DataFrame and set the index to the date column
values_df = pd.DataFrame(values, columns= ['date', 'precipitation'])
values_df
values_final_df = values_df.set_index("date")
values_final_df

# Sort the dataframe by date
    # date already sorted in ascending order since we queried the dates and precip a


# In[64]:


# Use Pandas Plotting with Matplotlib to plot the data
precipt_df.plot()
plt.ylim(0,7)
plt.xticks(rotation=70)
plt.xlabel('Date')
plt.ylabel('Inches')
plt.tight_layout()
plt.show()


# In[65]:


# Use Pandas to calcualte the summary statistics for the precipitation data
values_final_df.describe()


# # Exploratory Station Analysis

# In[66]:


# Design a query to calculate the total number stations in the dataset
total_number_stations= session.query(Station.station).count()
total_number_stations
print (f"There are {total_number_stations} stations available in this dataset")


# In[67]:


# Design a query to find the most active stations (i.e. what stations have the most rows?)
# List the stations and the counts in descending order.

#station_count = (Measurement.station, func.count(Measurement.station))
act_stat = session.query(Measurement.station, func.count(Measurement.station)).    group_by(Measurement.station).order_by(func.count(Measurement.station).desc())
active_stations = act_stat.all()
most_active_stat = act_stat.first()[0]
print(f"most active station is {most_active_stat}")
active_stations


# In[71]:


# Using the most active station id from the previous query, calculate the lowest, highest, and average temperature.
results = session.query(func.min(Measurement.tobs),func.max(Measurement.tobs),func.avg(Measurement.tobs), ).    filter(Measurement.station  == 'USC00519281').all()
results


# In[73]:


# Using the most active station id
# Query the last 12 months of temperature observation data for this station and plot the results as a histogram
station_temp = session.query(Measurement.date,Measurement.tobs).filter(Measurement.date >= '2016-08-23').    filter(Measurement.station == "USC00519281").order_by(Measurement.date)

# Convert to DF
station_temp_df = pd.DataFrame(station_temp, columns= ['date', 'tobs'])
#station_temp_df.head()

station_temp_df.plot.hist(bins=12, alpha=0.5)
plt.xlabel('Temperature')
plt.show()


# # Close session

# In[74]:


# Close Session
session.close()





